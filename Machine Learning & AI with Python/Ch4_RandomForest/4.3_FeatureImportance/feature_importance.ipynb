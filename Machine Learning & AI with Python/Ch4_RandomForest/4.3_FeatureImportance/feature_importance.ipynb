{
    "cells": [
        {
            "cell_type": "code",
            "execution_count": 0,
            "metadata": {},
            "outputs": [],
            "source": [
                "# Import necessary libraries\n",
                "import numpy as np\n",
                "import pandas as pd\n",
                "import matplotlib.pyplot as plt\n",
                "from sklearn.ensemble import RandomForestClassifier\n",
                "from sklearn.model_selection import train_test_split\n",
                "from sklearn.inspection import permutation_importance\n",
                "from sklearn.tree import DecisionTreeClassifier\n",
                "from helper import plot_permute_importance, plot_feature_importance\n",
                "\n",
                "%matplotlib inline\n"
            ]
        },
        {
            "cell_type": "code",
            "execution_count": 0,
            "metadata": {},
            "outputs": [],
            "source": [
                "# Read the dataset \"heart.csv\"\n",
                "df = pd.read_csv(\"heart.csv\")\n",
                "\n",
                "# Take a quick look at the data \n",
                "df.head()\n"
            ]
        },
        {
            "cell_type": "code",
            "execution_count": 0,
            "metadata": {},
            "outputs": [],
            "source": [
                "# Assign the predictor and response variables.\n",
                "\n",
                "# 'AHD' is the response and all the other columns are the predictors\n",
                "X = df.drop(columns=['AHD'])\n",
                "y = df['AHD']"
            ]
        },
        {
            "cell_type": "code",
            "execution_count": 0,
            "metadata": {},
            "outputs": [],
            "source": [
                "# Set the model parameters\n",
                "\n",
                "# The random state is fized for testing purposes\n",
                "random_state = 44\n",
                "\n",
                "# Choose a `max_depth` for your trees \n",
                "max_depth = 5"
            ]
        },
        {
            "attachments": {},
            "cell_type": "markdown",
            "metadata": {},
            "source": [
                "### SINGLE TREE"
            ]
        },
        {
            "cell_type": "code",
            "execution_count": 0,
            "metadata": {},
            "outputs": [],
            "source": [
                "### edTest(test_decision_tree) ###\n",
                "\n",
                "# Define a Decision Tree classifier with random_state as the above defined variable\n",
                "# Set the maximum depth to be max_depth\n",
                "tree = DecisionTreeClassifier(max_depth=max_depth, random_state=random_state)\n",
                "\n",
                "# Fit the model on the entire data\n",
                "tree.fit(X, y);\n",
                "\n",
                "# Using Permutation Importance to get the importance of features for the Decision Tree \n",
                "# with random_state as the above defined variable\n",
                "tree_result = permutation_importance(tree, X, y, random_state=random_state)\n"
            ]
        },
        {
            "attachments": {},
            "cell_type": "markdown",
            "metadata": {},
            "source": [
                "### RANDOM FOREST"
            ]
        },
        {
            "cell_type": "code",
            "execution_count": 0,
            "metadata": {},
            "outputs": [],
            "source": [
                "### edTest(test_random_forest) ###\n",
                "\n",
                "# Define a Random Forest classifier with random_state as the above defined variable\n",
                "# Set the maximum depth to be max_depth and use 10 estimators\n",
                "forest = RandomForestClassifier(max_depth=max_depth, n_estimators=10, random_state=random_state)\n",
                "\n",
                "# Fit the model on the entire data\n",
                "forest.fit(X, y);\n",
                "\n",
                "# Use Permutation Importance to get the importance of features for the Random Forest model \n",
                "# with random_state as the above defined variable\n",
                "forest_result = permutation_importance(forest, X, y, random_state=random_state)"
            ]
        },
        {
            "attachments": {},
            "cell_type": "markdown",
            "metadata": {},
            "source": [
                "### PLOTTING THE FEATURE RANKING"
            ]
        },
        {
            "cell_type": "code",
            "execution_count": 0,
            "metadata": {},
            "outputs": [],
            "source": [
                "# Helper code to visualize the feature importance using 'MDI'\n",
                "plot_feature_importance(tree,forest,X,y);\n",
                "\n",
                "# Helper code to visualize the feature importance using 'permutation feature importance'\n",
                "plot_permute_importance(tree_result,forest_result,X,y);\n"
            ]
        }
    ],
    "metadata": {
        "kernelspec": {
            "display_name": "Python 3 (ipykernel)",
            "language": "python",
            "name": "python3"
        }
    },
    "nbformat": 4,
    "nbformat_minor": 4
}
