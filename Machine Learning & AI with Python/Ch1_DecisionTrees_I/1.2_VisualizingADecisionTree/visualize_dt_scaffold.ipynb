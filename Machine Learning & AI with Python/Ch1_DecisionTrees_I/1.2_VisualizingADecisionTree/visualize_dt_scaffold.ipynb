{
 "cells": [
  {
   "cell_type": "code",
   "execution_count": null,
   "id": "6e032b5a",
   "metadata": {
    "vscode": {
     "languageId": "plaintext"
    }
   },
   "outputs": [],
   "source": [
    "# Import necessary libraries\n",
    "import numpy as np\n",
    "import pandas as pd\n",
    "import sklearn as sk\n",
    "import seaborn as sns\n",
    "from sklearn import tree\n",
    "import matplotlib.pyplot as plt\n",
    "from sklearn.tree import DecisionTreeClassifier\n",
    "from sklearn.model_selection import cross_val_score\n",
    "\n",
    "pd.set_option('display.width', 100)\n",
    "pd.set_option('display.max_columns', 20)\n",
    "plt.rcParams[\"figure.figsize\"] = (12,8)"
   ]
  },
  {
   "cell_type": "code",
   "execution_count": null,
   "id": "3c83a8d4",
   "metadata": {
    "vscode": {
     "languageId": "plaintext"
    }
   },
   "outputs": [],
   "source": [
    "# Read the datafile \"county_election_train.csv\" as a Pandas dataframe\n",
    "elect_train = pd.read_csv(\"data/county_election_train.csv\")\n",
    "\n",
    "# Read the datafile \"county_election_test.csv\" as a Pandas dataframe\n",
    "elect_test = pd.read_csv(\"data/county_election_test.csv\")\n",
    "\n",
    "# Take a quick look at the dataframe\n",
    "elect_train.head()"
   ]
  },
  {
   "cell_type": "code",
   "execution_count": null,
   "id": "198b305e",
   "metadata": {
    "vscode": {
     "languageId": "plaintext"
    }
   },
   "outputs": [],
   "source": [
    "### edTest(test_response) ###\n",
    "\n",
    "# Creating the response variable\n",
    "\n",
    "# Set all the rows in the train data where \"trump\" value is more than \"clinton\" \n",
    "# Ensure the results are binary i.e. 0s or 1s\n",
    "y_train = elect_train['trump'] > elect_train['clinton']\n",
    "\n",
    "# Set all the rows in the test data where \"trump\" value is more than \"clinton\" \n",
    "# Ensure the results are binary i.e. 0s or 1\n",
    "y_test = elect_test['trump'] > elect_test['clinton']"
   ]
  },
  {
   "cell_type": "code",
   "execution_count": null,
   "id": "a5bfb5db",
   "metadata": {
    "vscode": {
     "languageId": "plaintext"
    }
   },
   "outputs": [],
   "source": [
    "# Plot \"minority\" vs \"bachelor\" from the train data for Trump and Clinton\n",
    "# Plot minority on the x-axis and bachelor on the y-axis\n",
    "# Use different colours to depict data points associated with Trump and Clinton\n",
    "\n",
    "plt.scatter(elect_train[y_train]['minority'], elect_train[y_train]['bachelor'],\n",
    "            marker=\".\",color=\"blue\",label=\"Trump\", s=50, alpha=0.4)\n",
    "plt.scatter(elect_train[elect_train['trump'] <= elect_train['clinton']]['minority'], \n",
    "            elect_train[elect_train['trump'] <= elect_train['clinton']]['bachelor'],\n",
    "            marker=\".\",color=\"green\",label=\"Clinton\", s=50, alpha=0.4)\n",
    "\n",
    "plt.xlabel(\"minority\")\n",
    "plt.ylabel(\"bachelor\")\n",
    "plt.legend()\n",
    "plt.show();"
   ]
  },
  {
   "cell_type": "code",
   "execution_count": null,
   "id": "87722cfc",
   "metadata": {
    "vscode": {
     "languageId": "plaintext"
    }
   },
   "outputs": [],
   "source": [
    "### edTest(test_model) ###\n",
    "# Initialize a Decision Tree classifier of depth 3\n",
    "# Choose Gini as the splitting criteria \n",
    "dtree = DecisionTreeClassifier(max_depth=3, criterion='gini')\n",
    "\n",
    "# Fit the classifier on the train data\n",
    "# but only use the minority column as the predictor variable\n",
    "dtree.fit(elect_train[['minority']], y_train)"
   ]
  },
  {
   "cell_type": "code",
   "execution_count": null,
   "id": "5057a53d",
   "metadata": {
    "vscode": {
     "languageId": "plaintext"
    }
   },
   "outputs": [],
   "source": [
    "# Code to set the size of the plot\n",
    "plt.figure(figsize=(30,20))\n",
    "\n",
    "# Plot the Decision Tree trained above with parameters filled as True\n",
    "tree.plot_tree(dtree, feature_names=['minority'], class_names=['Clinton', 'Trump'], filled = True)\n",
    "\n",
    "\n",
    "plt.show();"
   ]
  }
 ],
 "metadata": {
  "language_info": {
   "name": "python"
  }
 },
 "nbformat": 4,
 "nbformat_minor": 5
}
